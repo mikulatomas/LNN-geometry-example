{
 "cells": [
  {
   "cell_type": "markdown",
   "metadata": {},
   "source": [
    "# Upward inference\n",
    "In this jupyter notebook we will show simple example of upward inference in Logical Neural Networks."
   ]
  },
  {
   "cell_type": "markdown",
   "metadata": {},
   "source": [
    "## Model definition\n",
    "Before we introduce upward inference we will define our model, predicates and axioms which will be later used for infering.\n",
    "\n",
    "We will try to model simple geometry example. Lets have two squares $s1$ and $s2$. Since we know, that *square is also a rectangle*, we should be able to infer that these two squares are also a rectangles."
   ]
  },
  {
   "cell_type": "code",
   "execution_count": 86,
   "metadata": {},
   "outputs": [],
   "source": [
    "from lnn import Model\n",
    "\n",
    "# create empty model\n",
    "model = Model()"
   ]
  },
  {
   "cell_type": "code",
   "execution_count": 87,
   "metadata": {},
   "outputs": [],
   "source": [
    "from lnn import Predicate\n",
    "\n",
    "# define our two predicates and name them\n",
    "square = Predicate(name=\"square\")\n",
    "rectangle = Predicate(name=\"rectangle\")\n",
    "\n",
    "# add predicates to the model\n",
    "model.add_formulae(square, rectangle)"
   ]
  },
  {
   "cell_type": "markdown",
   "metadata": {},
   "source": [
    "Our axiom can be easily represented in first order login as following formula:\n",
    "\n",
    "$square(x)\\implies rectangle(x)$."
   ]
  },
  {
   "cell_type": "code",
   "execution_count": 88,
   "metadata": {},
   "outputs": [],
   "source": [
    "from lnn import Variable, Implies, World\n",
    "\n",
    "# variable is needed for defining axiom in form of \"square is also a rectangle\"\n",
    "x = Variable(\"x\")\n",
    "\n",
    "# define our axiom\n",
    "square_is_rect = Implies(square(x), rectangle(x), name=\"square-is-rect\", world=World.AXIOM)\n",
    "\n",
    "# add axiom to the model\n",
    "model.add_formulae(square_is_rect)"
   ]
  },
  {
   "cell_type": "markdown",
   "metadata": {},
   "source": [
    "Now, we can check if our model contains all required predicates and axioms. See the edges in the graph below."
   ]
  },
  {
   "cell_type": "code",
   "execution_count": 89,
   "metadata": {},
   "outputs": [
    {
     "data": {
      "image/png": "[encoded data removed]",
      "text/plain": [
       "<Figure size 432x288 with 1 Axes>"
      ]
     },
     "metadata": {},
     "output_type": "display_data"
    }
   ],
   "source": [
    "from lnn.utils import plot_graph\n",
    "\n",
    "plot_graph(model)"
   ]
  },
  {
   "cell_type": "code",
   "execution_count": 85,
   "metadata": {},
   "outputs": [
    {
     "name": "stdout",
     "output_type": "stream",
     "text": [
      "\n",
      "***************************************************************************\n",
      "                                LNN Model\n",
      "\n",
      "AXIOM  Implies: square-is-rect(x) \n",
      "\n",
      "OPEN   Predicate: rectangle(x0) \n",
      "\n",
      "OPEN   Predicate: square(x0) \n",
      "\n",
      "***************************************************************************\n"
     ]
    }
   ],
   "source": [
    "# model can be also simply printed\n",
    "model.print()"
   ]
  },
  {
   "cell_type": "markdown",
   "metadata": {},
   "source": [
    "## Inference\n",
    "\n",
    "Before inference itself, since we will do so called *grounded inference*, we add so called *facts* which will be used in the upward inference.\n",
    "\n",
    "Remember that we mentioned two squares in the introduction, just add them to the model as facts for $square$ predicate."
   ]
  },
  {
   "cell_type": "code",
   "execution_count": 99,
   "metadata": {},
   "outputs": [],
   "source": [
    "from lnn import Fact\n",
    "\n",
    "# add facts to our model\n",
    "model.add_facts(\n",
    "    {\n",
    "        # note that name \"square\" have to match name of the predicate\n",
    "        \"square\":\n",
    "        # names of the squares s1 and s2 are arbitraty\n",
    "        # Fact.TRUE are bounds [1, 1] which represents that s1 and s2 are squares in truth value 1.0\n",
    "        {\"s1\": Fact.TRUE, \"s2\": Fact.TRUE}\n",
    "    }\n",
    ")\n"
   ]
  },
  {
   "cell_type": "code",
   "execution_count": 98,
   "metadata": {},
   "outputs": [
    {
     "name": "stdout",
     "output_type": "stream",
     "text": [
      "\n",
      "***************************************************************************\n",
      "                                LNN Model\n",
      "\n",
      "AXIOM  Implies: square-is-rect(x) \n",
      "\n",
      "OPEN   Predicate: rectangle(x0) \n",
      "\n",
      "OPEN   Predicate: square(x0) \n",
      "'s1'                                                        TRUE (1.0, 1.0)\n",
      "'s2'                                                        TRUE (1.0, 1.0)\n",
      "\n",
      "***************************************************************************\n"
     ]
    }
   ],
   "source": [
    "model.print()\n"
   ]
  },
  {
   "cell_type": "code",
   "execution_count": null,
   "metadata": {},
   "outputs": [],
   "source": [
    "from lnn import Direction"
   ]
  },
  {
   "cell_type": "code",
   "execution_count": 49,
   "metadata": {},
   "outputs": [],
   "source": [
    "# Perform inference\n",
    "steps, facts_inferred = model.infer(direction=Direction.UPWARD)"
   ]
  },
  {
   "cell_type": "code",
   "execution_count": 50,
   "metadata": {},
   "outputs": [
    {
     "name": "stdout",
     "output_type": "stream",
     "text": [
      "1\n",
      "tensor(0., grad_fn=<AddBackward0>)\n"
     ]
    }
   ],
   "source": [
    "print(steps)\n",
    "print(facts_inferred)"
   ]
  },
  {
   "cell_type": "code",
   "execution_count": 51,
   "metadata": {},
   "outputs": [
    {
     "name": "stdout",
     "output_type": "stream",
     "text": [
      "\n",
      "***************************************************************************\n",
      "                                LNN Model\n",
      "\n",
      "OPEN   ForAll: all-square-rect (x)                       UNKNOWN (0.0, 1.0)\n",
      "params  α: 1.0,  β: 1.0,  w: [1. 1.]\n",
      "AXIOM  Implies: square-rect(x) \n",
      "params  α: 1.0,  β: 1.0,  w: [1. 1.]\n",
      "'c'                                                         TRUE (1.0, 1.0)\n",
      "'k'                                                         TRUE (1.0, 1.0)\n",
      "\n",
      "OPEN   Predicate: rectangle(x0) \n",
      "params  α: 1.0\n",
      "'c'                                                      UNKNOWN (0.0, 1.0)\n",
      "'k'                                                      UNKNOWN (0.0, 1.0)\n",
      "\n",
      "OPEN   Predicate: square(x0) \n",
      "params  α: 1.0\n",
      "'c'                                                         TRUE (1.0, 1.0)\n",
      "'k'                                                         TRUE (1.0, 1.0)\n",
      "\n",
      "***************************************************************************\n"
     ]
    }
   ],
   "source": [
    "model.print(params=True)"
   ]
  },
  {
   "cell_type": "code",
   "execution_count": 35,
   "metadata": {},
   "outputs": [
    {
     "name": "stdout",
     "output_type": "stream",
     "text": [
      "\n",
      "***************************************************************************\n",
      "                                LNN Model\n",
      "\n",
      "AXIOM  Implies: square-rect(x) \n",
      "params  α: 1.0,  β: 1.0,  w: [1. 1.]\n",
      "'c'                                                         TRUE (1.0, 1.0)\n",
      "'k'                                                         TRUE (1.0, 1.0)\n",
      "\n",
      "OPEN   Predicate: rectangle(x0) \n",
      "params  α: 1.0\n",
      "'c'                                                         TRUE (1.0, 1.0)\n",
      "'k'                                                         TRUE (1.0, 1.0)\n",
      "\n",
      "OPEN   Predicate: square(x0) \n",
      "params  α: 1.0\n",
      "'c'                                                         TRUE (1.0, 1.0)\n",
      "'k'                                                         TRUE (1.0, 1.0)\n",
      "\n",
      "***************************************************************************\n"
     ]
    }
   ],
   "source": [
    "# Perform inference\n",
    "steps, facts_inferred = model.infer()\n",
    "model.print(params=True)"
   ]
  },
  {
   "cell_type": "code",
   "execution_count": null,
   "metadata": {},
   "outputs": [],
   "source": []
  }
 ],
 "metadata": {
  "interpreter": {
   "hash": "b08e4317ac3dadd66ff2b630a3808f8622704b72a62f43c1750e624fca33bbd2"
  },
  "kernelspec": {
   "display_name": "Python 3.9.10 ('lnn')",
   "language": "python",
   "name": "python3"
  },
  "language_info": {
   "codemirror_mode": {
    "name": "ipython",
    "version": 3
   },
   "file_extension": ".py",
   "mimetype": "text/x-python",
   "name": "python",
   "nbconvert_exporter": "python",
   "pygments_lexer": "ipython3",
   "version": "3.9.10"
  },
  "orig_nbformat": 4
 },
 "nbformat": 4,
 "nbformat_minor": 2
}
