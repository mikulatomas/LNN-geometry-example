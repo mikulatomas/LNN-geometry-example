{
 "cells": [
  {
   "cell_type": "markdown",
   "metadata": {},
   "source": [
    "# Upward inference\n",
    "In this jupyter notebook we will show simple example upward inference in Logical Neural Networks."
   ]
  },
  {
   "cell_type": "markdown",
   "metadata": {},
   "source": [
    "## Model definition\n",
    "Before we introduce upward inference we will define our model, predicates and axioms which will be later used for infering.\n",
    "\n",
    "We will try to model simple geometry example. Lets have two squares $s1$ and $s2$. Since we know, that *square is also a rectangle*, we should be able to infer that these two squares are also a rectangles."
   ]
  },
  {
   "cell_type": "code",
   "execution_count": null,
   "metadata": {},
   "outputs": [],
   "source": [
    "from lnn import Model\n",
    "\n",
    "# create empty model\n",
    "model = Model()"
   ]
  },
  {
   "cell_type": "code",
   "execution_count": null,
   "metadata": {},
   "outputs": [],
   "source": [
    "from lnn import Predicate\n",
    "\n",
    "# define our two predicates and name them\n",
    "square = Predicate(name=\"square\")\n",
    "rectangle = Predicate(name=\"rectangle\")\n",
    "\n",
    "# add predicates to the model\n",
    "model.add_formulae(square, rectangle)"
   ]
  },
  {
   "cell_type": "markdown",
   "metadata": {},
   "source": [
    "Our axiom can be easily represented in first order login as following formula:\n",
    "\n",
    "$square(x)\\implies rectangle(x)$."
   ]
  },
  {
   "cell_type": "code",
   "execution_count": null,
   "metadata": {},
   "outputs": [],
   "source": [
    "from lnn import Variable, Implies, World\n",
    "\n",
    "# variable is needed for defining axiom in form of \"square is also a rectangle\"\n",
    "x = Variable(\"x\")\n",
    "\n",
    "# define our axiom\n",
    "square_is_rect = Implies(square(x), rectangle(x), name=\"square_is_rect\", world=World.AXIOM)\n",
    "\n",
    "# add axiom to the model\n",
    "model.add_formulae(square_is_rect)"
   ]
  },
  {
   "cell_type": "markdown",
   "metadata": {},
   "source": [
    "Now, we can check if our model contains all required predicates and axioms. Since model can be expressed as graph which represents syntax tree of our formula we can simply plot it and verify the graph edges."
   ]
  },
  {
   "cell_type": "code",
   "execution_count": null,
   "metadata": {},
   "outputs": [],
   "source": [
    "from lnn.utils import plot_graph\n",
    "\n",
    "plot_graph(model)"
   ]
  },
  {
   "cell_type": "markdown",
   "metadata": {},
   "source": [
    "Model can be also simply printed.\n",
    "\n",
    "Do not be confused with variable `x0` it was created automatically for us. The variable `x` was created by us before."
   ]
  },
  {
   "cell_type": "code",
   "execution_count": null,
   "metadata": {},
   "outputs": [],
   "source": [
    "model.print()"
   ]
  },
  {
   "cell_type": "markdown",
   "metadata": {},
   "source": [
    "## Adding facts\n",
    "\n",
    "Before inference itself, since we will do so called *grounded inference*, we add so called *facts* which will be used in the upward inference.\n",
    "\n",
    "Remember that we mentioned two squares in the introduction, just add them to the model as facts for $square$ predicate."
   ]
  },
  {
   "cell_type": "code",
   "execution_count": null,
   "metadata": {},
   "outputs": [],
   "source": [
    "from lnn import Fact\n",
    "\n",
    "# add facts to our model\n",
    "model.add_facts(\n",
    "    {\n",
    "        # note that name \"square\" have to match name of the predicate\n",
    "        \"square\":\n",
    "        # names of the squares s1 and s2 are arbitraty\n",
    "        # Fact.TRUE are bounds [1, 1] which represents that s1 and s2 are squares in truth value 1.0\n",
    "        {\"s1\": Fact.TRUE, \"s2\": Fact.TRUE}\n",
    "    }\n",
    ")\n"
   ]
  },
  {
   "cell_type": "markdown",
   "metadata": {},
   "source": [
    "We can verify the model by printing it again. We can see recently added facts as $square(s1)$ and $square(s2)$ being `TRUE`."
   ]
  },
  {
   "cell_type": "code",
   "execution_count": null,
   "metadata": {},
   "outputs": [],
   "source": [
    "# note truth bounds on the right side of the table\n",
    "model.print()"
   ]
  },
  {
   "cell_type": "markdown",
   "metadata": {},
   "source": [
    "## Inference\n",
    "Now we have everything ready for so called *upward inference*. The \"upward\" in the name comes from the direction in which inference go through syntax tree of the formula.\n",
    "\n",
    "In our case, we will start from atoms (two predicates in our case) and compute truth bounds for each subformula (implication in our case)."
   ]
  },
  {
   "cell_type": "code",
   "execution_count": null,
   "metadata": {},
   "outputs": [],
   "source": [
    "from lnn import Direction\n",
    "\n",
    "# perform inference\n",
    "steps, facts_inferred = model.infer(direction=Direction.UPWARD)\n",
    "\n",
    "# result of the inference can be checked, we will see that inference happened in single step and zero facts were inferred\n",
    "steps, facts_inferred"
   ]
  },
  {
   "cell_type": "markdown",
   "metadata": {},
   "source": [
    "The interesting part begins during inspection of our model.\n",
    "\n",
    "We can see two interesting changes:\n",
    "1. truth bounds for formulae $square\\_is\\_rect(s1)$ and $square\\_is\\_rect(s2)$ are both `TRUE`\n",
    "2. truth bounds for predicate $rectangle(s1)$ and $rectangle(s2)$ are both `UNKNOWN`"
   ]
  },
  {
   "cell_type": "code",
   "execution_count": null,
   "metadata": {},
   "outputs": [],
   "source": [
    "model.print()"
   ]
  },
  {
   "cell_type": "markdown",
   "metadata": {},
   "source": [
    "Note that result of $rectangle(s1)$ and $rectangle(s2)$ being `UNKNOWN` is expected since we used only upward inference (evaluate the implication for $s1$ and $s2$). To tight these two truth bounds we have to use so called *downward inference* which is described in next jupyter notebook."
   ]
  }
 ],
 "metadata": {
  "interpreter": {
   "hash": "b08e4317ac3dadd66ff2b630a3808f8622704b72a62f43c1750e624fca33bbd2"
  },
  "kernelspec": {
   "display_name": "Python 3.9.10 ('lnn')",
   "language": "python",
   "name": "python3"
  },
  "language_info": {
   "codemirror_mode": {
    "name": "ipython",
    "version": 3
   },
   "file_extension": ".py",
   "mimetype": "text/x-python",
   "name": "python",
   "nbconvert_exporter": "python",
   "pygments_lexer": "ipython3",
   "version": "3.9.10"
  },
  "orig_nbformat": 4
 },
 "nbformat": 4,
 "nbformat_minor": 2
}
